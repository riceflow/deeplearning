{
 "cells": [
  {
   "cell_type": "markdown",
   "metadata": {},
   "source": [
    "### 参考文献\n",
    "\n",
    "# ChainerとOptunaの使い方\n",
    "https://colab.research.google.com/drive/1yAdWW9opd9jQioCtcnYxdmW5wRCKQv11#scrollTo=dGaYexculteU\n",
    "https://qiita.com/yoshiyoshi0505/items/2e39ffdab305dba95164\n",
    "\n",
    "# 画像サンプル(結局kaggleの画像を使わせて頂いた)\n",
    "https://www.codexa.net/ml-dataset-list/\n",
    "http://www.cs.toronto.edu/~kriz/cifar.html\n",
    "https://rest-term.com/archives/3172/\n",
    "http://www.robots.ox.ac.uk/~vgg/data/pets/\n",
    "https://www.kaggle.com/c/dogs-vs-cats-redux-kernels-edition/data"
   ]
  },
  {
   "cell_type": "markdown",
   "metadata": {},
   "source": [
    "### Colaboratory初期化\n",
    "#画像読込\n",
    "from google.colab import files\n",
    "uploaded = files.upload()\n",
    "!unzip dog_cat.zip\n",
    "!rm dog_cat.zip\n",
    "!rm -rf  __MACOSX\n",
    "!ls"
   ]
  },
  {
   "cell_type": "code",
   "execution_count": null,
   "metadata": {
    "collapsed": true
   },
   "outputs": [],
   "source": [
    "### 初期化\n",
    "import chainer\n",
    "#chainer.print_runtime_info()\n",
    "import numpy as np\n",
    "import matplotlib.pyplot as plt\n",
    "%matplotlib inline\n",
    "\n",
    "import warnings\n",
    "warnings.filterwarnings('ignore')\n",
    "from PIL import Image\n",
    "\n",
    "from glob import glob\n",
    "\n",
    "x, t = [], []\n",
    "\n",
    "#画像ファイル読込み\n",
    "dog_filepaths = glob('dog_cat/dog/*.jpg')\n",
    "for dog_filepath in dog_filepaths:\n",
    "    img = Image.open(dog_filepath)\n",
    "    x.append(np.array(img))\n",
    "    _t = np.array(0, 'i')\n",
    "    t.append(_t)\n",
    "\n",
    "cat_filepaths = glob('dog_cat/cat/*.jpg')\n",
    "for cat_filepath in cat_filepaths:\n",
    "    img = Image.open(cat_filepath)\n",
    "    x.append(np.array(img))\n",
    "    _t = np.array(1, 'f') \n",
    "    t.append(_t)\n",
    "\n",
    "#検算\n",
    "len(x)\n",
    "len(t)"
   ]
  }
 ],
 "metadata": {
  "kernelspec": {
   "display_name": "Python 3",
   "language": "python",
   "name": "python3"
  },
  "language_info": {
   "codemirror_mode": {
    "name": "ipython",
    "version": 3
   },
   "file_extension": ".py",
   "mimetype": "text/x-python",
   "name": "python",
   "nbconvert_exporter": "python",
   "pygments_lexer": "ipython3",
   "version": "3.6.0"
  },
  "toc": {
   "colors": {
    "hover_highlight": "#DAA520",
    "navigate_num": "#000000",
    "navigate_text": "#333333",
    "running_highlight": "#FF0000",
    "selected_highlight": "#FFD700",
    "sidebar_border": "#EEEEEE",
    "wrapper_background": "#FFFFFF"
   },
   "moveMenuLeft": true,
   "nav_menu": {
    "height": "12px",
    "width": "252px"
   },
   "navigate_menu": true,
   "number_sections": true,
   "sideBar": true,
   "threshold": 4,
   "toc_cell": false,
   "toc_section_display": "block",
   "toc_window_display": false,
   "widenNotebook": false
  }
 },
 "nbformat": 4,
 "nbformat_minor": 2
}
