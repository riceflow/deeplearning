{
 "cells": [
  {
   "cell_type": "code",
   "execution_count": 11,
   "metadata": {},
   "outputs": [
    {
     "name": "stdout",
     "output_type": "stream",
     "text": [
      "店名\n"
     ]
    }
   ],
   "source": [
    "import sys\n",
    "import codecs\n",
    "import pandas as pd\n",
    "import matplotlib.pyplot as plt\n",
    "\n",
    "\n",
    "# shops = pd.read_csv('shops.txt', delimiter='\\t')\n",
    "# reviews = pd.read_csv('reviews.txt', delimiter='\\t')\n",
    "\n",
    "shops = pd.read_csv('as.txt', delimiter='\\t')\n",
    "reviews = pd.read_csv('ar.txt', delimiter='\\t')\n",
    "\n",
    "print(shops.columns[1])\n",
    "#print(shops['店名'])"
   ]
  },
  {
   "cell_type": "code",
   "execution_count": null,
   "metadata": {
    "collapsed": true
   },
   "outputs": [],
   "source": []
  }
 ],
 "metadata": {
  "kernelspec": {
   "display_name": "Python 3",
   "language": "python",
   "name": "python3"
  },
  "language_info": {
   "codemirror_mode": {
    "name": "ipython",
    "version": 3
   },
   "file_extension": ".py",
   "mimetype": "text/x-python",
   "name": "python",
   "nbconvert_exporter": "python",
   "pygments_lexer": "ipython3",
   "version": "3.6.2"
  }
 },
 "nbformat": 4,
 "nbformat_minor": 2
}
