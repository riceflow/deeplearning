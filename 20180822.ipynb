{
 "cells": [
  {
   "cell_type": "code",
   "execution_count": 1,
   "metadata": {},
   "outputs": [],
   "source": [
    "## クリーニング処理\n",
    "def cleaning_reviews(reviews):\n",
    "    yuragi1_keywords = ['〆め','〆','らぅめん','らあめん','辨麺','回目','ﾃﾞﾘｼｬｽ','ﾁｬｰｼｭｰ','，',',','、、、','、、','1枚','１枚']\n",
    "    yuragi2_keywords = ['しめ','しめ','ラーメン','ラーメン','ラーメン','複数回','おいしい','チャーシュー','、','、','、','、','一枚','一枚']\n",
    "    index = 0\n",
    "    for key in yuragi1_keywords:\n",
    "        reviews['コメント'] = reviews['コメント'].str.replace(yuragi1_keywords[index],  yuragi2_keywords[index])\n",
    "        index += 1\n",
    "    dust_keywords = [' ','　','<','>','＜','＞',':','：',';','；','・','”','\"','º','`','⤵︎','о','﹃','o','σ','ゞ','∇','【', '】','『','』','“','(', ')','（',  '）','[',']','「', '」','《','》','≪','≫', '￣','＋', '+','●','〇','◎','▲','△','▼','▽','★', '☆','■','︎□','※','＊','↑','↓','←','→','⇔','~','/','／','´','｀','∀','〜','～','*','^','＾','-','─','≦','≧','=','＝','#','＃','%','％','&','＆','\\\\','￥','_','＿','要約','円','a','b','c','d','e','f','g','h','i','j','k','l','m','n','o','p','q','r','s','t','u','v','w','x','y','z','A','B','C','D','E','F','G','H','I','J','K','L','M','N','O','P','Q','R','S','T','U','V','W','X','Y','Z','ａ','ｂ','ｃ','ｄ','ｅ','ｆ','ｇ','ｈ','ｉ','ｊ','ｋ','ｌ','ｍ','ｎ','ｏ','ｐ','ｑ','ｒ','ｓ','ｔ','ｕ','ｖ','ｗ','ｘ','ｙ','ｚ','Ａ','Ｂ','Ｃ','Ｄ','Ｅ','Ｆ','Ｇ','Ｈ','Ｉ','Ｊ','Ｋ','Ｌ','Ｍ','Ｎ','Ｏ','Ｐ','Ｑ','Ｒ','Ｓ','Ｔ','Ｕ','Ｖ','Ｗ','Ｘ','Ｙ','Ｚ','0','1','2','3','4','5','6','7','8','9','０','１','２','３','４','５','６','７','８','９','➀','②','③','④','⑤','⑥','⑦','⑧','⑨','⑩','⑪','⑫','⑬','⑭','⑮','⑯','⑰','⑱','⑲','⑳','㉑']\n",
    "    for key in dust_keywords:\n",
    "        reviews['コメント'] = reviews['コメント'].str.replace(key, '')\n",
    "    change_keywords = ['!','！','‼','?','？','.','．','♪','…','。。。','。。','。、','、。']\n",
    "    for key in change_keywords:\n",
    "        reviews['コメント'] = reviews['コメント'].str.replace(key, '。')\n",
    "    return reviews"
   ]
  },
  {
   "cell_type": "code",
   "execution_count": 2,
   "metadata": {},
   "outputs": [],
   "source": [
    "## 単語の分割\n",
    "import json\n",
    "from sudachipy import tokenizer\n",
    "from sudachipy import dictionary\n",
    "from sudachipy import config\n",
    "\n",
    "def words_tokenize(reviews):\n",
    "    with open(config.SETTINGFILE, \"r\", encoding=\"utf-8\") as f:\n",
    "        settings = json.load(f)\n",
    "    tokenizer_obj = dictionary.Dictionary(settings).create()\n",
    "    mode = tokenizer.Tokenizer.SplitMode.C\n",
    "    print('こめ')\n",
    "    print(reviews['コメント'])\n",
    "    print('ほげ')\n",
    "    for i, comment in enumerate(reviews['コメント']):\n",
    "        for m in tokenizer_obj.tokenize(mode, comment):\n",
    "            print([m.surface() for m in tokenizer_obj.tokenize(mode, comment)])"
   ]
  },
  {
   "cell_type": "code",
   "execution_count": 66,
   "metadata": {
    "scrolled": false
   },
   "outputs": [],
   "source": [
    "## メイン関数\n",
    "import sys\n",
    "import pandas as pd\n",
    "\n",
    "## ファイルの読込み(全件)\n",
    "#shops = pd.read_csv('shops.txt', delimiter='\\t')\n",
    "reviews = pd.read_csv('reviews.txt', delimiter='\\t')\n",
    "\n",
    "## クリーニング\n",
    "reviews = cleaning_reviews(reviews)\n",
    "\n",
    "reviews.to_csv('reviews2.txt')"
   ]
  },
  {
   "cell_type": "code",
   "execution_count": 38,
   "metadata": {},
   "outputs": [],
   "source": [
    "def printFileInfo(reviews):\n",
    "\n",
    "    # 点数単位の件数\n",
    "    print(reviews.query('91 <= 点数 < 101')['点数'].size)\n",
    "    print(reviews.query('81 <= 点数 < 91')['点数'].size)\n",
    "    print(reviews.query('71 <= 点数 < 81')['点数'].size)\n",
    "    print(reviews.query('61 <= 点数 < 71')['点数'].size)\n",
    "    print(reviews.query('0 <= 点数 < 61')['点数'].size)\n",
    "\n",
    "    # 点数単位のコメントの長さ\n",
    "    [print(str(len(m)) + ',' + m) for m in reviews.query('91 <= 点数 < 101')['コメント']]\n",
    "    [print(str(len(m)) + ',' + m) for m in reviews.query('81 <= 点数 < 91')['コメント']]\n",
    "    [print(str(len(m)) + ',' + m) for m in reviews.query('71 <= 点数 < 81')['コメント']]\n",
    "    [print(str(len(m)) + ',' + m) for m in reviews.query('61 <= 点数 < 71')['コメント']]\n",
    "    [print(str(len(m)) + ',' + m) for m in reviews.query('0 <= 点数 < 61')['コメント']]"
   ]
  },
  {
   "cell_type": "code",
   "execution_count": 40,
   "metadata": {
    "scrolled": true
   },
   "outputs": [],
   "source": [
    "## メイン関数\n",
    "import sys\n",
    "import codecs\n",
    "import random\n",
    "import numpy as np\n",
    "import numpy.random\n",
    "import pandas as pd\n",
    "import copy\n",
    "import matplotlib.pyplot as plt\n",
    "from sklearn.model_selection import train_test_split\n",
    "from keras.models import Sequential\n",
    "from keras.layers import Embedding\n",
    "from keras.layers import Conv1D, MaxPooling1D, Dropout, LSTM\n",
    "from keras.layers.core import Dense, Activation\n",
    "from keras.optimizers import SGD\n",
    "from keras.utils import np_utils\n",
    "\n",
    "# ファイルの読込み(全件)\n",
    "reviews = pd.read_csv('reviews2.txt', delimiter=',')\n",
    "\n",
    "# ファイル情報\n",
    "#printFileInfo(reviews)\n",
    "\n",
    "\n",
    "## 単語分割\n",
    "#words_tokenize(reviews)\n",
    "\n",
    "#print(reviews['コメント'])"
   ]
  },
  {
   "cell_type": "code",
   "execution_count": null,
   "metadata": {},
   "outputs": [],
   "source": []
  }
 ],
 "metadata": {
  "kernelspec": {
   "display_name": "Python 3",
   "language": "python",
   "name": "python3"
  },
  "language_info": {
   "codemirror_mode": {
    "name": "ipython",
    "version": 3
   },
   "file_extension": ".py",
   "mimetype": "text/x-python",
   "name": "python",
   "nbconvert_exporter": "python",
   "pygments_lexer": "ipython3",
   "version": "3.6.5"
  }
 },
 "nbformat": 4,
 "nbformat_minor": 2
}
