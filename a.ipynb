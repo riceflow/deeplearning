{
 "cells": [
  {
   "cell_type": "code",
   "execution_count": 2,
   "metadata": {},
   "outputs": [
    {
     "name": "stdout",
     "output_type": "stream",
     "text": [
      "    店鋪ID                  メニュー    分類   スープ  点数          コメント\n",
      "0  34567         豚骨貝介のワイルドWスープ  ラーメン  豚骨魚介  80           みたか\n",
      "1   2234  がんメン 50円 + 替玉（無料券利用）  ラーメン    豚骨  70   安心の<br />替玉\n",
      "2    392                 いのしし麺  ラーメン    醤油  83            う！\n",
      "3      1                   いけ麺   つけ麺    醤油  87         つi-to\n",
      "4     91                    そば  ラーメン    醤油  80  ですです。<br />よ\n"
     ]
    }
   ],
   "source": [
    "import sys\n",
    "import codecs\n",
    "import pandas as pd\n",
    "import matplotlib.pyplot as plt\n",
    "\n",
    "\n",
    "# shops = pd.read_csv('shops.txt', delimiter='\\t')\n",
    "# reviews = pd.read_csv('reviews.txt', delimiter='\\t')\n",
    "\n",
    "shops = pd.read_csv('as.txt', delimiter='\\t')\n",
    "reviews = pd.read_csv('ar.txt', delimiter='\\t')\n",
    "\n",
    "print(reviews)"
   ]
  },
  {
   "cell_type": "code",
   "execution_count": null,
   "metadata": {
    "collapsed": true
   },
   "outputs": [],
   "source": []
  }
 ],
 "metadata": {
  "kernelspec": {
   "display_name": "Python 3",
   "language": "python",
   "name": "python3"
  },
  "language_info": {
   "codemirror_mode": {
    "name": "ipython",
    "version": 3
   },
   "file_extension": ".py",
   "mimetype": "text/x-python",
   "name": "python",
   "nbconvert_exporter": "python",
   "pygments_lexer": "ipython3",
   "version": "3.6.2"
  }
 },
 "nbformat": 4,
 "nbformat_minor": 2
}
